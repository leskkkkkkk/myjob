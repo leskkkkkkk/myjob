{
  "nbformat": 4,
  "nbformat_minor": 0,
  "metadata": {
    "colab": {
      "provenance": [],
      "authorship_tag": "ABX9TyM8lsRNi67zZVnqANwtvNg1",
      "include_colab_link": true
    },
    "kernelspec": {
      "name": "python3",
      "display_name": "Python 3"
    },
    "language_info": {
      "name": "python"
    }
  },
  "cells": [
    {
      "cell_type": "markdown",
      "metadata": {
        "id": "view-in-github",
        "colab_type": "text"
      },
      "source": [
        "<a href=\"https://colab.research.google.com/github/leskkkkkkk/myjob/blob/main/Untitled0.ipynb\" target=\"_parent\"><img src=\"https://colab.research.google.com/assets/colab-badge.svg\" alt=\"Open In Colab\"/></a>"
      ]
    },
    {
      "cell_type": "code",
      "source": [
        "type(None)"
      ],
      "metadata": {
        "colab": {
          "base_uri": "https://localhost:8080/"
        },
        "id": "7rdNiwwDkf4l",
        "outputId": "c3cc0f5b-0a45-4062-b17c-afe47915eae6"
      },
      "execution_count": null,
      "outputs": [
        {
          "output_type": "execute_result",
          "data": {
            "text/plain": [
              "NoneType"
            ]
          },
          "metadata": {},
          "execution_count": 9
        }
      ]
    },
    {
      "cell_type": "code",
      "source": [
        "print (type(None))\n",
        "\n",
        "print (type(True))\n",
        "\n",
        "print (type(False))\n",
        "\n",
        "print (type(1))\n",
        "\n",
        "print (type(5.3))\n",
        "\n",
        "print (type(5 + 4j))\n",
        "\n",
        "print (type([1, 5.3, False, 4]))\n",
        "\n",
        "print (type((1, True, 3, 5+4j)))\n",
        "\n",
        "print (type(range(5)))\n",
        "\n",
        "print (type('Hello'))\n",
        "\n",
        "print (type(b'a'))\n",
        "\n",
        "print (type(bytearray([1,2,3])))\n",
        "\n",
        "print (type(memoryview(bytearray('XYZ', 'utf-8'))))\n",
        "\n",
        "print (type({'a', 3, True}))\n",
        "\n",
        "print (type(frozenset({1, 2, 3})))\n",
        "\n",
        "print (type({'a' : 32}))"
      ],
      "metadata": {
        "colab": {
          "base_uri": "https://localhost:8080/"
        },
        "id": "SZFZaBD-grlc",
        "outputId": "fca68843-0528-4371-bf88-075ea36a9614"
      },
      "execution_count": null,
      "outputs": [
        {
          "output_type": "stream",
          "name": "stdout",
          "text": [
            "<class 'NoneType'>\n",
            "<class 'bool'>\n",
            "<class 'bool'>\n",
            "<class 'int'>\n",
            "<class 'float'>\n",
            "<class 'complex'>\n",
            "<class 'list'>\n",
            "<class 'tuple'>\n",
            "<class 'range'>\n",
            "<class 'str'>\n",
            "<class 'bytes'>\n",
            "<class 'bytearray'>\n",
            "<class 'memoryview'>\n",
            "<class 'set'>\n",
            "<class 'frozenset'>\n",
            "<class 'dict'>\n"
          ]
        }
      ]
    },
    {
      "cell_type": "markdown",
      "source": [
        "NoneType - пустое неопределённое значение;\n",
        "bool - логический тип;\n",
        "int - целое число;\n",
        "float - число с плавающей точкой;\n",
        "complex - комплексное число;  \n",
        "list - список;\n",
        "tuple - кортеж;\n",
        "range - диапазон, неизменяемая поселедовательность целых чисел;\n",
        "str - строка;\n",
        "bytes - байты;\n",
        "bytearray - массивы байт;\n",
        "memoryview - встроенная функция памяти;\n",
        "set - множество;\n",
        "frozenset - неизменяемое значение;\n",
        "dict - словарь."
      ],
      "metadata": {
        "id": "BA1_gDmYmG_z"
      }
    },
    {
      "cell_type": "code",
      "source": [
        "a = 667-13\n",
        "print (a)\n",
        "b = a + 101\n",
        "print (b)\n",
        "c=a+b\n",
        "print(c)\n",
        "print(a,b,c)"
      ],
      "metadata": {
        "colab": {
          "base_uri": "https://localhost:8080/"
        },
        "id": "P-1Ppg4ZoncU",
        "outputId": "e494b210-d8e5-4568-993e-c95d2b4653ce"
      },
      "execution_count": null,
      "outputs": [
        {
          "output_type": "stream",
          "name": "stdout",
          "text": [
            "654\n",
            "755\n",
            "1409\n",
            "654 755 1409\n"
          ]
        }
      ]
    },
    {
      "cell_type": "code",
      "source": [
        "a=10.5*2\n",
        "print (a)\n",
        "b=(a+a)/3\n",
        "print(b)\n",
        "c=(a+b)*2\n",
        "print(c)\n"
      ],
      "metadata": {
        "colab": {
          "base_uri": "https://localhost:8080/"
        },
        "id": "x-i-OYTAoZtz",
        "outputId": "d156cc06-5055-4f2a-c2c4-8f8a3763eb3e"
      },
      "execution_count": null,
      "outputs": [
        {
          "output_type": "stream",
          "name": "stdout",
          "text": [
            "21.0\n",
            "14.0\n",
            "70.0\n"
          ]
        }
      ]
    },
    {
      "cell_type": "code",
      "source": [
        "name = input('Как тебя зовут?')\n",
        "print('Привет,', name)\n"
      ],
      "metadata": {
        "colab": {
          "base_uri": "https://localhost:8080/"
        },
        "id": "Wb1NCWhJqNp1",
        "outputId": "56d1bd0c-0af0-4f67-847f-c6be0a48460b"
      },
      "execution_count": null,
      "outputs": [
        {
          "output_type": "stream",
          "name": "stdout",
          "text": [
            "Как тубя зовут?Саня\n",
            "Привет, Саня\n"
          ]
        }
      ]
    },
    {
      "cell_type": "code",
      "source": [
        "a = True\n",
        "\n",
        "b = False\n",
        "print(a and b)\n",
        "\n",
        "print((a and b) or b)\n",
        "\n",
        "print((a and b) or not (a and b))\n",
        "\n",
        "print(a and b or not (a or b) or b)\n",
        "\n",
        "print(b and b or not a and (a or b or a) or not (a or b))"
      ],
      "metadata": {
        "colab": {
          "base_uri": "https://localhost:8080/"
        },
        "id": "fJr-051nsPbi",
        "outputId": "ac75bd0a-d788-4df0-b50f-45e16393ecbd"
      },
      "execution_count": null,
      "outputs": [
        {
          "output_type": "stream",
          "name": "stdout",
          "text": [
            "False\n",
            "False\n",
            "True\n",
            "False\n",
            "False\n"
          ]
        }
      ]
    },
    {
      "cell_type": "code",
      "source": [
        "a=input('a = ')\n",
        "b=input('b = ')\n",
        "if a>b:\n",
        "  print(b)\n",
        "else:\n",
        "  print(a)"
      ],
      "metadata": {
        "id": "VJSOs-g2taF3"
      },
      "execution_count": null,
      "outputs": []
    },
    {
      "cell_type": "code",
      "source": [
        "a= int (input('a = '))\n",
        "b= int (input('b = '))\n",
        "c= int (input('c = '))\n",
        "if a>b and c>b:\n",
        "  print(b)\n",
        "elif b>a and c>a:\n",
        "  print(a)\n",
        "else:\n",
        "  print(c)"
      ],
      "metadata": {
        "id": "UI00I3XbuvG5"
      },
      "execution_count": null,
      "outputs": []
    },
    {
      "cell_type": "code",
      "source": [
        "a= int(input('a = '))\n",
        "b=int(input('b = '))\n",
        "if a>b:\n",
        "  print(a-b)\n",
        "elif b>a:\n",
        "  print(a+b)\n",
        "else:\n",
        "  print(a)"
      ],
      "metadata": {
        "id": "q1uCRY8FwHhw"
      },
      "execution_count": null,
      "outputs": []
    },
    {
      "cell_type": "code",
      "source": [
        "age = int (input('Сколько тебе лет? '))\n",
        "if age>0 and age<7:\n",
        "  print('Вам в детский сад!')\n",
        "elif age>=7 and age<18:\n",
        "  print('Вам в школу!')\n",
        "elif age>=18 and age<25:\n",
        "  print('Вам в профессиональное учебное заведение!')\n",
        "elif age>=25 and age<60:\n",
        "  print('Вам на работу!')\n",
        "elif age>=60 and age<120:\n",
        "  print('Вам представляется выбор!')\n",
        "else:\n",
        "  print('Ошибка! Эта программа для людей!')"
      ],
      "metadata": {
        "id": "er-Q-_C7xxk8"
      },
      "execution_count": null,
      "outputs": []
    },
    {
      "cell_type": "code",
      "source": [
        "cost = int (input('Сколько стоит твоя покупка? '))\n",
        "if cost>500 and cost<1001:\n",
        "  print('Стоимость вашей покупки с учётом скидки: ', cost*0.97)\n",
        "elif cost>1000:\n",
        "  print('Стоимость вашей покупки с учётом скидки: ', cost*0.95)\n",
        "else:\n",
        "  print('Стоимость ващей покупки: ', cost)"
      ],
      "metadata": {
        "id": "-1q0GW7W4usg"
      },
      "execution_count": null,
      "outputs": []
    },
    {
      "cell_type": "code",
      "source": [
        "input_string = input(\"Введите строку из целых чисел через пробел: \")\n",
        "numbers = list(map(int, input_string.split()))\n",
        "\n",
        "my_list = numbers\n",
        "my_tuple = tuple(numbers)\n",
        "my_set = set(numbers)\n",
        "\n",
        "print(\"Список:\", my_list)\n",
        "print(\"Кортеж:\", my_tuple)\n",
        "print(\"Множество:\", my_set)\n"
      ],
      "metadata": {
        "id": "5wxdBx9CRoW6"
      },
      "execution_count": null,
      "outputs": []
    }
  ]
}